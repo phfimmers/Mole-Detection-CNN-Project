{
 "cells": [
  {
   "cell_type": "code",
   "execution_count": 1,
   "metadata": {
    "colab": {
     "base_uri": "https://localhost:8080/"
    },
    "id": "OegYQN_IA_4k",
    "outputId": "60302957-6e5a-45b5-b974-dd408ec55d5d"
   },
   "outputs": [],
   "source": [
    "from pathlib import Path\n",
    "import os\n",
    "import numpy as np\n",
    "import pandas as pd\n",
    "from sklearn.model_selection import train_test_split\n",
    "import cv2\n",
    "from unrar import rarfile\n",
    "from keras.preprocessing.image import ImageDataGenerator\n",
    "from preprocess import selma_secret_sauce"
   ]
  },
  {
   "cell_type": "code",
   "execution_count": 2,
   "metadata": {},
   "outputs": [
    {
     "data": {
      "text/plain": [
       "'/home/becode/Documents/projects/Mole-Detection-CNN-Project/src/preprocessing'"
      ]
     },
     "execution_count": 2,
     "metadata": {},
     "output_type": "execute_result"
    }
   ],
   "source": [
    "%pwd"
   ]
  },
  {
   "cell_type": "code",
   "execution_count": 2,
   "metadata": {
    "colab": {
     "base_uri": "https://localhost:8080/"
    },
    "id": "V4JnJKNxAraA",
    "outputId": "bbc100fa-a594-41b5-fb69-c8e749879da5"
   },
   "outputs": [
    {
     "name": "stdout",
     "output_type": "stream",
     "text": [
      "% see doctor cases - train: 0.2168582375478927\n",
      "% see doctor cases - test: 0.21724137931034482\n"
     ]
    }
   ],
   "source": [
    "# cross-platform forward slash path notation\n",
    "assets_folder = Path('../data')\n",
    "temp_folder = Path('./temp')\n",
    "\n",
    "# on linux, do pip install unrar and apt-get install libunrar5\n",
    "file = rarfile.RarFile(str(assets_folder / 'data.rar'))\n",
    "file.extractall(path=str(temp_folder))\n",
    "\n",
    "# list absolute paths to every extracted file\n",
    "original_rar_file_list = [os.path.join(r, file) for r,d,f in os.walk(temp_folder) for file in f]\n",
    "\n",
    "# get only the rows/colmns containing data from CLIN_DIA.xlsx\n",
    "images_diag_df = pd.read_excel(assets_folder / 'CLIN_DIA.xlsx')\n",
    "images_diag_df.dropna(axis=0, how='all', inplace=True)\n",
    "images_diag_df.dropna(axis=1, how='all', inplace=True)\n",
    "\n",
    "# filter out non-existent images and files where diagnose wasn't finshed yet\n",
    "def construct_image_path(image_diag_row):\n",
    "    \"\"\"Return the path for the image in the diag df, if it exists, otherwise, return NaN\"\"\"\n",
    "    try:\n",
    "        return [path for path in original_rar_file_list if image_diag_row['id'].upper()+'.BMP' in path][0]\n",
    "    except:\n",
    "        return np.nan\n",
    "\n",
    "images_diag_df['filepath'] = images_diag_df.apply(construct_image_path, axis = 1)\n",
    "images_diag_df.dropna(axis = 0, subset=['filepath'], inplace=True)\n",
    "images_diag_df = images_diag_df[images_diag_df['kat.Diagnose'].isin([1,2,3])]\n",
    "\n",
    "# create binary label based on kat.Diagnose\n",
    "# 1\t\t==> no_doctor\n",
    "# 2/3\t==> doctor\n",
    "images_diag_df['label'] = images_diag_df['kat.Diagnose'].apply(lambda x: 'no_doctor' if x == 1 else 'doctor')\n",
    "\n",
    "# split the images_diag_df in train and test with each 22% cases that should see a doctor\n",
    "images_diag_train, images_diag_test = train_test_split(images_diag_df, test_size=0.1, random_state=101, stratify=images_diag_df['label'])\n",
    "print('% see doctor cases - train:', images_diag_train[images_diag_train['label'] == 'doctor'].shape[0]/len(images_diag_train))\n",
    "print('% see doctor cases - test:', images_diag_test[images_diag_test['label'] == 'doctor'].shape[0]/len(images_diag_test))"
   ]
  },
  {
   "cell_type": "code",
   "execution_count": 3,
   "metadata": {
    "colab": {
     "base_uri": "https://localhost:8080/"
    },
    "id": "uhY8ouHqB0wF",
    "outputId": "d8b5b495-dabb-4f84-bdb4-b2574d982329"
   },
   "outputs": [
    {
     "name": "stdout",
     "output_type": "stream",
     "text": [
      "6.9%\n",
      "13.8%\n",
      "20.7%\n",
      "27.6%\n",
      "34.5%\n",
      "41.4%\n",
      "48.3%\n",
      "55.2%\n",
      "62.1%\n",
      "69.0%\n",
      "75.9%\n",
      "82.8%\n",
      "89.7%\n",
      "96.6%\n"
     ]
    }
   ],
   "source": [
    "# create directory structure\n",
    "structure = [ 'train', 'test', 'train/no_doctor', 'train/doctor', 'test/no_doctor', 'test/doctor']\n",
    "for dir in structure:\n",
    "    dir = temp_folder / dir\n",
    "    if not dir.exists():\n",
    "        os.mkdir(dir)\n",
    "\n",
    "current_rows = 'train'\n",
    "progress_counter = 0\n",
    "\n",
    "for rows in (images_diag_train.iterrows(), images_diag_test.iterrows()):\n",
    "    for index, row in rows:\n",
    "        # pre-processing part\n",
    "        image = cv2.imread(f\"{row['filepath']}\")\n",
    "        image = selma_secret_sauce(image, advanced = False)\n",
    "        # save to image tree\n",
    "        image = cv2.cvtColor(image, cv2.COLOR_RGB2BGR)\n",
    "        if current_rows == 'train':\n",
    "            if row['label'] == 'no_doctor':\n",
    "                cv2.imwrite(str(temp_folder / 'train' / 'no_doctor' / f\"{row['id']}.png\"), image)\n",
    "            else:\n",
    "                cv2.imwrite(str(temp_folder / 'train' / 'doctor' / f\"{row['id']}.png\"), image)\n",
    "        else:\n",
    "            if row['label'] == 'no_doctor':\n",
    "                cv2.imwrite(str(temp_folder / 'test' / 'no_doctor' / f\"{row['id']}.png\"), image)\n",
    "            else:\n",
    "                cv2.imwrite(str(temp_folder / 'test' / 'doctor' / f\"{row['id']}.png\"), image)\n",
    "        progress_counter += 1\n",
    "        if progress_counter % 200 == 0:\n",
    "            print(f'{progress_counter/images_diag_df.shape[0]:.1%}')\n",
    "    current_rows = 'test'"
   ]
  },
  {
   "cell_type": "code",
   "execution_count": null,
   "metadata": {
    "id": "Nnx3hpIWwOq4"
   },
   "outputs": [],
   "source": []
  },
  {
   "cell_type": "code",
   "execution_count": null,
   "metadata": {},
   "outputs": [],
   "source": []
  },
  {
   "cell_type": "code",
   "execution_count": null,
   "metadata": {
    "id": "EEtgW1aLwPIa"
   },
   "outputs": [],
   "source": []
  },
  {
   "cell_type": "code",
   "execution_count": null,
   "metadata": {
    "id": "35aA4-s4wPih"
   },
   "outputs": [],
   "source": []
  },
  {
   "cell_type": "code",
   "execution_count": null,
   "metadata": {
    "id": "z7twOhTmwQ3D"
   },
   "outputs": [],
   "source": []
  },
  {
   "cell_type": "code",
   "execution_count": null,
   "metadata": {
    "id": "JVtW8Y8twQ6M"
   },
   "outputs": [],
   "source": []
  },
  {
   "cell_type": "code",
   "execution_count": null,
   "metadata": {
    "id": "Mjxll3MIwQ9V"
   },
   "outputs": [],
   "source": []
  },
  {
   "cell_type": "code",
   "execution_count": null,
   "metadata": {
    "id": "-PNgEn8LwRAd"
   },
   "outputs": [],
   "source": []
  },
  {
   "cell_type": "code",
   "execution_count": null,
   "metadata": {
    "id": "PF4me2LGwRED"
   },
   "outputs": [],
   "source": []
  },
  {
   "cell_type": "code",
   "execution_count": null,
   "metadata": {
    "id": "HYe9Db9jwRIZ"
   },
   "outputs": [],
   "source": []
  },
  {
   "cell_type": "code",
   "execution_count": null,
   "metadata": {
    "id": "0ZdmOXi-wRMT"
   },
   "outputs": [],
   "source": []
  },
  {
   "cell_type": "code",
   "execution_count": null,
   "metadata": {
    "id": "IhGTddYZwRQT"
   },
   "outputs": [],
   "source": []
  }
 ],
 "metadata": {
  "colab": {
   "name": "preprocess.ipynb",
   "provenance": []
  },
  "kernelspec": {
   "display_name": "Mole-Detection",
   "language": "python",
   "name": "mole-detection"
  },
  "language_info": {
   "codemirror_mode": {
    "name": "ipython",
    "version": 3
   },
   "file_extension": ".py",
   "mimetype": "text/x-python",
   "name": "python",
   "nbconvert_exporter": "python",
   "pygments_lexer": "ipython3",
   "version": "3.8.5"
  }
 },
 "nbformat": 4,
 "nbformat_minor": 1
}
