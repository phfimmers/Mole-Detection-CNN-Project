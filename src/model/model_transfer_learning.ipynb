{
 "cells": [
  {
   "cell_type": "code",
   "execution_count": 27,
   "metadata": {},
   "outputs": [],
   "source": [
    "from keras.layers import Input, Lambda, Dense, Flatten\n",
    "from keras.models import Model\n",
    "from keras.applications.vgg16 import VGG16\n",
    "from keras.applications.vgg16 import preprocess_input\n",
    "from keras.preprocessing import image\n",
    "from keras.preprocessing.image import ImageDataGenerator\n",
    "from keras.models import Sequential\n",
    "import numpy as np\n",
    "from glob import glob\n",
    "import matplotlib.pyplot as plt"
   ]
  },
  {
   "cell_type": "code",
   "execution_count": 28,
   "metadata": {},
   "outputs": [
    {
     "data": {
      "text/plain": [
       "'/Users/mselmaesen/Desktop/Mole-Detection-CNN-Project/src/model'"
      ]
     },
     "execution_count": 28,
     "metadata": {},
     "output_type": "execute_result"
    }
   ],
   "source": [
    "%pwd\n"
   ]
  },
  {
   "cell_type": "code",
   "execution_count": 29,
   "metadata": {},
   "outputs": [
    {
     "name": "stdout",
     "output_type": "stream",
     "text": [
      "Model: \"sequential_5\"\n",
      "_________________________________________________________________\n",
      "Layer (type)                 Output Shape              Param #   \n",
      "=================================================================\n",
      "vgg16 (Functional)           (None, 2, 2, 512)         14714688  \n",
      "_________________________________________________________________\n",
      "flatten_5 (Flatten)          (None, 2048)              0         \n",
      "_________________________________________________________________\n",
      "dense_5 (Dense)              (None, 2)                 4098      \n",
      "=================================================================\n",
      "Total params: 14,718,786\n",
      "Trainable params: 14,718,786\n",
      "Non-trainable params: 0\n",
      "_________________________________________________________________\n"
     ]
    }
   ],
   "source": [
    "model = Sequential()\n",
    "\n",
    " \n",
    "\n",
    "# adding the input layer to vgg model\n",
    "vgg = VGG16(weights='imagenet',include_top=False, input_shape=(64,64,3))\n",
    "model.add(vgg)\n",
    "\n",
    "model.add(Flatten())\n",
    "model.add(Dense(2, activation=\"softmax\"))\n",
    "model.summary()\n"
   ]
  },
  {
   "cell_type": "code",
   "execution_count": 30,
   "metadata": {},
   "outputs": [
    {
     "name": "stdout",
     "output_type": "stream",
     "text": [
      "Model: \"sequential_5\"\n",
      "_________________________________________________________________\n",
      "Layer (type)                 Output Shape              Param #   \n",
      "=================================================================\n",
      "vgg16 (Functional)           (None, 2, 2, 512)         14714688  \n",
      "_________________________________________________________________\n",
      "flatten_5 (Flatten)          (None, 2048)              0         \n",
      "_________________________________________________________________\n",
      "dense_5 (Dense)              (None, 2)                 4098      \n",
      "=================================================================\n",
      "Total params: 14,718,786\n",
      "Trainable params: 4,098\n",
      "Non-trainable params: 14,714,688\n",
      "_________________________________________________________________\n"
     ]
    }
   ],
   "source": [
    "# don't train the vgg layers:\n",
    "for layers in model.layers[0].layers:\n",
    "    layers.trainable = False\n",
    "    \n",
    "# And Freeze also layer zero for good measure\n",
    "model.layers[0].trainable = False\n",
    "\n",
    "model.summary()"
   ]
  },
  {
   "cell_type": "code",
   "execution_count": 31,
   "metadata": {},
   "outputs": [],
   "source": [
    "from keras.preprocessing.image import ImageDataGenerator\n",
    "\n",
    "# compiling the model\n",
    "model.compile(optimizer='adam', loss='categorical_crossentropy', metrics=['accuracy'])\n",
    "\n",
    "\n",
    "# defining the constants for the model training\n",
    "\n",
    "BATCH_SIZE = 32\n",
    "EPOCHS = 20\n",
    "test_path='/Users/mselmaesen/Desktop/Mole-Detection-CNN-Project/src/preprocessing/temp/test'\n",
    "train_path='/Users/mselmaesen/Desktop/Mole-Detection-CNN-Project/src/preprocessing/temp/train'\n"
   ]
  },
  {
   "cell_type": "code",
   "execution_count": 32,
   "metadata": {},
   "outputs": [],
   "source": [
    "generator = ImageDataGenerator(\n",
    "    rotation_range=90,\n",
    "    rescale=1/255,\n",
    "    zoom_range=0.1,\n",
    "    horizontal_flip=True,\n",
    "    vertical_flip=True,\n",
    "    fill_mode='nearest',\n",
    "    brightness_range=[0.8,1.2],\n",
    "    validation_split=0.2\n",
    ")\n",
    "test_generator = ImageDataGenerator(\n",
    "    rescale=1/255,\n",
    ")\n"
   ]
  },
  {
   "cell_type": "code",
   "execution_count": 33,
   "metadata": {},
   "outputs": [
    {
     "name": "stdout",
     "output_type": "stream",
     "text": [
      "Found 2610 images belonging to 2 classes.\n",
      "Found 290 images belonging to 2 classes.\n",
      "Epoch 1/20\n",
      "81/81 [==============================] - 82s 1s/step - loss: 0.5043 - accuracy: 0.7862 - val_loss: 0.4886 - val_accuracy: 0.7812\n",
      "Epoch 2/20\n",
      "81/81 [==============================] - 87s 1s/step - loss: 0.4823 - accuracy: 0.7870 - val_loss: 0.4684 - val_accuracy: 0.7917\n",
      "Epoch 3/20\n",
      "81/81 [==============================] - 92s 1s/step - loss: 0.4625 - accuracy: 0.7984 - val_loss: 0.4659 - val_accuracy: 0.8090\n",
      "Epoch 4/20\n",
      "81/81 [==============================] - 92s 1s/step - loss: 0.4533 - accuracy: 0.8058 - val_loss: 0.4536 - val_accuracy: 0.7986\n",
      "Epoch 5/20\n",
      "81/81 [==============================] - 92s 1s/step - loss: 0.4577 - accuracy: 0.7866 - val_loss: 0.4615 - val_accuracy: 0.7951\n",
      "Epoch 6/20\n",
      "81/81 [==============================] - 96s 1s/step - loss: 0.4597 - accuracy: 0.7977 - val_loss: 0.4518 - val_accuracy: 0.8056\n",
      "Epoch 7/20\n",
      "81/81 [==============================] - 103s 1s/step - loss: 0.4537 - accuracy: 0.7933 - val_loss: 0.4633 - val_accuracy: 0.7951\n",
      "Epoch 8/20\n",
      "81/81 [==============================] - 102s 1s/step - loss: 0.4363 - accuracy: 0.8105 - val_loss: 0.4468 - val_accuracy: 0.7986\n",
      "Epoch 9/20\n",
      "81/81 [==============================] - 95s 1s/step - loss: 0.4350 - accuracy: 0.8048 - val_loss: 0.4614 - val_accuracy: 0.7917\n",
      "Epoch 10/20\n",
      "81/81 [==============================] - 85s 1s/step - loss: 0.4301 - accuracy: 0.8170 - val_loss: 0.4767 - val_accuracy: 0.7882\n",
      "Epoch 11/20\n",
      "81/81 [==============================] - 88s 1s/step - loss: 0.4209 - accuracy: 0.8192 - val_loss: 0.4439 - val_accuracy: 0.7951\n",
      "Epoch 12/20\n",
      "81/81 [==============================] - 84s 1s/step - loss: 0.4470 - accuracy: 0.8022 - val_loss: 0.4537 - val_accuracy: 0.7917\n",
      "Epoch 13/20\n",
      "81/81 [==============================] - 84s 1s/step - loss: 0.4431 - accuracy: 0.8024 - val_loss: 0.4647 - val_accuracy: 0.7951\n",
      "Epoch 14/20\n",
      "81/81 [==============================] - 85s 1s/step - loss: 0.4401 - accuracy: 0.8018 - val_loss: 0.5214 - val_accuracy: 0.7882\n",
      "Epoch 15/20\n",
      "81/81 [==============================] - 140s 2s/step - loss: 0.4921 - accuracy: 0.7761 - val_loss: 0.4581 - val_accuracy: 0.7917\n",
      "Epoch 16/20\n",
      "81/81 [==============================] - 87s 1s/step - loss: 0.4307 - accuracy: 0.8013 - val_loss: 0.4540 - val_accuracy: 0.7917\n",
      "Epoch 17/20\n",
      "81/81 [==============================] - 88s 1s/step - loss: 0.4248 - accuracy: 0.8117 - val_loss: 0.4438 - val_accuracy: 0.7986\n",
      "Epoch 18/20\n",
      "81/81 [==============================] - 87s 1s/step - loss: 0.4396 - accuracy: 0.8051 - val_loss: 0.4462 - val_accuracy: 0.7951\n",
      "Epoch 19/20\n",
      "81/81 [==============================] - 87s 1s/step - loss: 0.4393 - accuracy: 0.8056 - val_loss: 0.4601 - val_accuracy: 0.7917\n",
      "Epoch 20/20\n",
      "81/81 [==============================] - 86s 1s/step - loss: 0.4158 - accuracy: 0.8210 - val_loss: 0.4477 - val_accuracy: 0.7951\n"
     ]
    },
    {
     "data": {
      "text/plain": [
       "<tensorflow.python.keras.callbacks.History at 0x7fbab8dcce50>"
      ]
     },
     "execution_count": 33,
     "metadata": {},
     "output_type": "execute_result"
    }
   ],
   "source": [
    "train_set = generator.flow_from_directory(train_path, target_size=(64,64), batch_size=BATCH_SIZE)\n",
    "test_set = test_generator.flow_from_directory(test_path, target_size=(64,64), batch_size=BATCH_SIZE)\n",
    "\n",
    "model.fit_generator(train_set, steps_per_epoch=len(train_set.filenames)//BATCH_SIZE, epochs=EPOCHS, validation_data = test_set, validation_steps=len(test_set.filenames)//BATCH_SIZE )\n"
   ]
  },
  {
   "cell_type": "code",
   "execution_count": 35,
   "metadata": {},
   "outputs": [],
   "source": [
    "model.save_weights('model_transfer_learning.h5')"
   ]
  },
  {
   "cell_type": "code",
   "execution_count": null,
   "metadata": {},
   "outputs": [],
   "source": []
  }
 ],
 "metadata": {
  "kernelspec": {
   "display_name": "Python 3",
   "language": "python",
   "name": "python3"
  },
  "language_info": {
   "codemirror_mode": {
    "name": "ipython",
    "version": 3
   },
   "file_extension": ".py",
   "mimetype": "text/x-python",
   "name": "python",
   "nbconvert_exporter": "python",
   "pygments_lexer": "ipython3",
   "version": "3.8.3"
  }
 },
 "nbformat": 4,
 "nbformat_minor": 4
}
