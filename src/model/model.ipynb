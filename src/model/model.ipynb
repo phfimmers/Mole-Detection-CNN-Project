{
 "cells": [
  {
   "cell_type": "code",
   "execution_count": null,
   "metadata": {},
   "outputs": [],
   "source": [
    "from keras.callbacks import EarlyStopping\n",
    "from keras.callbacks import ModelCheckpoint\n",
    "from keras.layers import Dense, Activation, Flatten, Dropout\n",
    "from keras.layers import Conv2D\n",
    "from keras.models import Sequential\n",
    "from keras.regularizers import l2\n",
    "from keras.optimizers import Adam\n",
    "from keras.preprocessing.image import ImageDataGenerator"
   ]
  },
  {
   "cell_type": "code",
   "execution_count": null,
   "metadata": {},
   "outputs": [],
   "source": [
    "# test augmentation on one image\n",
    "test_image = cv2.imread('./temp/train/no_doctor/D423.png')\n",
    "\n",
    "writer = ImageDataGenerator(rescale=1./255,\n",
    "                            rotation_range=20,\n",
    "                            fill_mode='constant',\n",
    "                            cval=125, # grey\n",
    "                            height_shift_range=0.2,\n",
    "                            horizontal_flip=True,\n",
    "                            vertical_flip=True)\n",
    "\n",
    "imagewriter = writer.flow(np.expand_dims(test_image, axis=0),\n",
    "                            batch_size=1,\n",
    "                            save_to_dir = '.',\n",
    "                            save_prefix=\"\",\n",
    "                            save_format=\"png\")\n",
    "write_total = 0\n",
    "for image in imagewriter:\n",
    "    write_total += 1\n",
    "    if write_total == 10:\n",
    "        break"
   ]
  },
  {
   "cell_type": "code",
   "execution_count": null,
   "metadata": {},
   "outputs": [],
   "source": [
    "# if test is ok, apply augmentation to whole dataset\n",
    "# All images will be rescaled by 1./255\n",
    "train_datagen = ImageDataGenerator(rescale=1./255,\n",
    "                                   height_shift_range=0.2,\n",
    "                                   horizontal_flip=True,\n",
    "                                   vertical_flip=True)\n",
    "                                   \n",
    "val_datagen = ImageDataGenerator(rescale=1./255)\n",
    "\n",
    "# Flow training images in batches of 20 using train_datagen generator\n",
    "train_generator = train_datagen.flow_from_directory(\n",
    "        temp_folder / 'train',  # This is the source directory for training images\n",
    "        target_size=(256, 256),  # All images will be resized to 256 x 256\n",
    "        batch_size=20,\n",
    "        # Since we use binary_crossentropy loss, we need binary labels\n",
    "        class_mode='binary')\n",
    "\n",
    "# Flow validation images in batches of 20 using val_datagen generator\n",
    "validation_generator = val_datagen.flow_from_directory(\n",
    "        temp_folder / 'test',\n",
    "        target_size=(256, 256),\n",
    "        batch_size=20,\n",
    "        class_mode='binary')"
   ]
  },
  {
   "cell_type": "code",
   "execution_count": null,
   "metadata": {},
   "outputs": [],
   "source": [
    "def mole_model():\n",
    " \n",
    "    model = Sequential()\n",
    "    model.add(Conv2D(32, (5, 5), strides=(1, 1), padding='same', input_shape=(256,256,3), activation='relu'))\n",
    "    model.add(Dropout(0.25))\n",
    " \n",
    "    model.add(Conv2D(64, (5, 5), strides=(2, 2), padding='same', activation='relu'))\n",
    "    model.add(Dropout(0.25))\n",
    "\n",
    "    model.add(Conv2D(128, (3, 3), strides=(2, 2), padding='same', activation='relu')) # Layer 4\n",
    "    model.add(Dropout(0.25))\n",
    "\n",
    "    model.add(Flatten())\n",
    "    model.add(Dense(512, activation='relu'))\n",
    "    model.add(Dropout(0.25))\n",
    "    model.add(Dense(1, activation='sigmoid'))\n",
    "    \n",
    "    # Compile model \n",
    "    model.compile(loss='binary_crossentropy', optimizer=Adam(), metrics=['accuracy'])\n",
    "    return model\n",
    "\n",
    "mole_model_a = mole_model()"
   ]
  },
  {
   "cell_type": "code",
   "execution_count": null,
   "metadata": {},
   "outputs": [],
   "source": [
    "es = EarlyStopping(monitor='val_loss',\n",
    "                   mode='min',\n",
    "                   verbose=1,\n",
    "                   patience=4,\n",
    "                   restore_best_weights=True)\n",
    "\n",
    "mc = ModelCheckpoint('best_model.h5',\n",
    "                     monitor='val_accuracy',\n",
    "                     mode='max',\n",
    "                     save_best_only=True)\n",
    "\n",
    "history = mole_model_a.fit(train_generator,\n",
    "                           epochs=1000,\n",
    "                           validation_data=validation_generator,\n",
    "                           batch_size = 20,\n",
    "                           callbacks = [es, mc])"
   ]
  },
  {
   "cell_type": "code",
   "execution_count": null,
   "metadata": {},
   "outputs": [],
   "source": [
    "mole_model_a.save_weights(\"model.h5\")"
   ]
  }
 ],
 "metadata": {
  "kernelspec": {
   "display_name": "Mole-Detection",
   "language": "python",
   "name": "mole-detection"
  },
  "language_info": {
   "codemirror_mode": {
    "name": "ipython",
    "version": 3
   },
   "file_extension": ".py",
   "mimetype": "text/x-python",
   "name": "python",
   "nbconvert_exporter": "python",
   "pygments_lexer": "ipython3",
   "version": "3.8.5"
  }
 },
 "nbformat": 4,
 "nbformat_minor": 4
}
